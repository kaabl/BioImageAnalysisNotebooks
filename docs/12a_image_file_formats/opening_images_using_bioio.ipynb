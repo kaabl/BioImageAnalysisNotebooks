{
 "cells": [
  {
   "cell_type": "markdown",
   "id": "d4df910f-e8ce-44d4-9fb5-dcb5a0559914",
   "metadata": {},
   "source": [
    "# Reading files with Bioio\n",
    "\n",
    "The [BioIO library](https://bioio-devs.github.io/bioio/OVERVIEW.html) (formerly [AICSImageIO](https://github.com/AllenCellModeling/aicsimageio)) aims streamlining reading microscopy image data. \n",
    "\n",
    "To install the library, you need to call this command. \n",
    "\n",
    "```\n",
    "pip install bioio\n",
    "```\n",
    "\n",
    "In case specific proprietary file formats should be read, additional software must be installed. [Check the documentation for details](https://github.com/AllenCellModeling/aicsimageio#extra-format-installation). "
   ]
  },
  {
   "cell_type": "code",
   "execution_count": 7,
   "id": "150dfb79-2c22-41a9-b490-9139fd6c0be0",
   "metadata": {
    "tags": []
   },
   "outputs": [
    {
     "data": {
      "text/plain": [
       "'1.5.2'"
      ]
     },
     "execution_count": 7,
     "metadata": {},
     "output_type": "execute_result"
    }
   ],
   "source": [
    "import bioio\n",
    "bioio.__version__"
   ]
  },
  {
   "cell_type": "code",
   "execution_count": 1,
   "id": "ee6f1233-2443-4c93-a91b-2b1ed795a25b",
   "metadata": {
    "tags": []
   },
   "outputs": [],
   "source": [
    "from bioio import BioImage\n",
    "from stackview import imshow"
   ]
  },
  {
   "cell_type": "markdown",
   "id": "c2faf622-d46c-47e0-a008-9eeb24aed3a8",
   "metadata": {},
   "source": [
    "First, we create an `BioImage` object to see if it understands our file format. As example we are using here an image shared by Romina Piscitello-Gómez (MPI CBG, Dresden)."
   ]
  },
  {
   "cell_type": "code",
   "execution_count": 2,
   "id": "69a5e6d0-7324-4d70-a737-2dcfc8c12a19",
   "metadata": {
    "tags": []
   },
   "outputs": [
    {
     "data": {
      "text/plain": [
       "<BioImage [plugin: bioio-czi installed at 2025-04-22 16:23:38.240431, Image-is-in-Memory: False]>"
      ]
     },
     "execution_count": 2,
     "metadata": {},
     "output_type": "execute_result"
    }
   ],
   "source": [
    "bio_image = BioImage(\"../../data/PupalWing.czi\")\n",
    "bio_image"
   ]
  },
  {
   "cell_type": "markdown",
   "id": "de6bc84e-dbf3-4bfb-ac48-2d6f25888d59",
   "metadata": {},
   "source": [
    "This object can already give us basic information such as image size/shape, dimensions and dimension names and order."
   ]
  },
  {
   "cell_type": "code",
   "execution_count": 4,
   "id": "d0104b70-9af2-4006-9882-2c6a82393346",
   "metadata": {},
   "outputs": [
    {
     "ename": "AssertionError",
     "evalue": "Expected 0 to be in {4: Rectangle(x=319358, y=227440, w=692, h=520)}.",
     "output_type": "error",
     "traceback": [
      "\u001b[1;31m---------------------------------------------------------------------------\u001b[0m",
      "\u001b[1;31mAssertionError\u001b[0m                            Traceback (most recent call last)",
      "Cell \u001b[1;32mIn[4], line 1\u001b[0m\n\u001b[1;32m----> 1\u001b[0m \u001b[43mbio_image\u001b[49m\u001b[38;5;241;43m.\u001b[39;49m\u001b[43mshape\u001b[49m\n",
      "File \u001b[1;32m~\\miniforge3\\envs\\bio11\\Lib\\site-packages\\bioio\\bio_image.py:654\u001b[0m, in \u001b[0;36mBioImage.shape\u001b[1;34m(self)\u001b[0m\n\u001b[0;32m    646\u001b[0m \u001b[38;5;129m@property\u001b[39m\n\u001b[0;32m    647\u001b[0m \u001b[38;5;28;01mdef\u001b[39;00m\u001b[38;5;250m \u001b[39m\u001b[38;5;21mshape\u001b[39m(\u001b[38;5;28mself\u001b[39m) \u001b[38;5;241m-\u001b[39m\u001b[38;5;241m>\u001b[39m Tuple[\u001b[38;5;28mint\u001b[39m, \u001b[38;5;241m.\u001b[39m\u001b[38;5;241m.\u001b[39m\u001b[38;5;241m.\u001b[39m]:\n\u001b[0;32m    648\u001b[0m \u001b[38;5;250m    \u001b[39m\u001b[38;5;124;03m\"\"\"\u001b[39;00m\n\u001b[0;32m    649\u001b[0m \u001b[38;5;124;03m    Returns\u001b[39;00m\n\u001b[0;32m    650\u001b[0m \u001b[38;5;124;03m    -------\u001b[39;00m\n\u001b[0;32m    651\u001b[0m \u001b[38;5;124;03m    shape: Tuple[int, ...]\u001b[39;00m\n\u001b[0;32m    652\u001b[0m \u001b[38;5;124;03m        Tuple of the image array's dimensions.\u001b[39;00m\n\u001b[0;32m    653\u001b[0m \u001b[38;5;124;03m    \"\"\"\u001b[39;00m\n\u001b[1;32m--> 654\u001b[0m     \u001b[38;5;28;01mreturn\u001b[39;00m \u001b[38;5;28;43mself\u001b[39;49m\u001b[38;5;241;43m.\u001b[39;49m\u001b[43mxarray_dask_data\u001b[49m\u001b[38;5;241m.\u001b[39mshape\n",
      "File \u001b[1;32m~\\miniforge3\\envs\\bio11\\Lib\\site-packages\\bioio\\bio_image.py:530\u001b[0m, in \u001b[0;36mBioImage.xarray_dask_data\u001b[1;34m(self)\u001b[0m\n\u001b[0;32m    515\u001b[0m \u001b[38;5;250m\u001b[39m\u001b[38;5;124;03m\"\"\"\u001b[39;00m\n\u001b[0;32m    516\u001b[0m \u001b[38;5;124;03mReturns\u001b[39;00m\n\u001b[0;32m    517\u001b[0m \u001b[38;5;124;03m-------\u001b[39;00m\n\u001b[1;32m   (...)\u001b[0m\n\u001b[0;32m    523\u001b[0m \u001b[38;5;124;03mIf the image contains mosaic tiles, data is returned already stitched together.\u001b[39;00m\n\u001b[0;32m    524\u001b[0m \u001b[38;5;124;03m\"\"\"\u001b[39;00m\n\u001b[0;32m    525\u001b[0m \u001b[38;5;28;01mif\u001b[39;00m \u001b[38;5;28mself\u001b[39m\u001b[38;5;241m.\u001b[39m_xarray_dask_data \u001b[38;5;129;01mis\u001b[39;00m \u001b[38;5;28;01mNone\u001b[39;00m:\n\u001b[0;32m    526\u001b[0m     \u001b[38;5;28;01mif\u001b[39;00m (\n\u001b[0;32m    527\u001b[0m         \u001b[38;5;66;03m# Does the user want to get stitched mosaic\u001b[39;00m\n\u001b[0;32m    528\u001b[0m         \u001b[38;5;28mself\u001b[39m\u001b[38;5;241m.\u001b[39m_reconstruct_mosaic\n\u001b[0;32m    529\u001b[0m         \u001b[38;5;66;03m# Does the data have a tile dim\u001b[39;00m\n\u001b[1;32m--> 530\u001b[0m         \u001b[38;5;129;01mand\u001b[39;00m biob\u001b[38;5;241m.\u001b[39mdimensions\u001b[38;5;241m.\u001b[39mDimensionNames\u001b[38;5;241m.\u001b[39mMosaicTile \u001b[38;5;129;01min\u001b[39;00m \u001b[38;5;28;43mself\u001b[39;49m\u001b[38;5;241;43m.\u001b[39;49m\u001b[43mreader\u001b[49m\u001b[38;5;241;43m.\u001b[39;49m\u001b[43mdims\u001b[49m\u001b[38;5;241m.\u001b[39morder\n\u001b[0;32m    531\u001b[0m     ):\n\u001b[0;32m    532\u001b[0m         \u001b[38;5;28;01mtry\u001b[39;00m:\n\u001b[0;32m    533\u001b[0m             \u001b[38;5;28mself\u001b[39m\u001b[38;5;241m.\u001b[39m_xarray_dask_data \u001b[38;5;241m=\u001b[39m (\n\u001b[0;32m    534\u001b[0m                 \u001b[38;5;28mself\u001b[39m\u001b[38;5;241m.\u001b[39m_transform_data_array_to_bioio_image_standard(\n\u001b[0;32m    535\u001b[0m                     \u001b[38;5;28mself\u001b[39m\u001b[38;5;241m.\u001b[39mreader\u001b[38;5;241m.\u001b[39mmosaic_xarray_dask_data\n\u001b[0;32m    536\u001b[0m                 )\n\u001b[0;32m    537\u001b[0m             )\n",
      "File \u001b[1;32m~\\miniforge3\\envs\\bio11\\Lib\\site-packages\\bioio_base\\reader.py:605\u001b[0m, in \u001b[0;36mReader.dims\u001b[1;34m(self)\u001b[0m\n\u001b[0;32m    598\u001b[0m \u001b[38;5;250m\u001b[39m\u001b[38;5;124;03m\"\"\"\u001b[39;00m\n\u001b[0;32m    599\u001b[0m \u001b[38;5;124;03mReturns\u001b[39;00m\n\u001b[0;32m    600\u001b[0m \u001b[38;5;124;03m-------\u001b[39;00m\n\u001b[0;32m    601\u001b[0m \u001b[38;5;124;03mdims: Dimensions\u001b[39;00m\n\u001b[0;32m    602\u001b[0m \u001b[38;5;124;03m    Object with the paired dimension names and their sizes.\u001b[39;00m\n\u001b[0;32m    603\u001b[0m \u001b[38;5;124;03m\"\"\"\u001b[39;00m\n\u001b[0;32m    604\u001b[0m \u001b[38;5;28;01mif\u001b[39;00m \u001b[38;5;28mself\u001b[39m\u001b[38;5;241m.\u001b[39m_dims \u001b[38;5;129;01mis\u001b[39;00m \u001b[38;5;28;01mNone\u001b[39;00m:\n\u001b[1;32m--> 605\u001b[0m     \u001b[38;5;28mself\u001b[39m\u001b[38;5;241m.\u001b[39m_dims \u001b[38;5;241m=\u001b[39m Dimensions(dims\u001b[38;5;241m=\u001b[39m\u001b[38;5;28;43mself\u001b[39;49m\u001b[38;5;241;43m.\u001b[39;49m\u001b[43mxarray_dask_data\u001b[49m\u001b[38;5;241m.\u001b[39mdims, shape\u001b[38;5;241m=\u001b[39m\u001b[38;5;28mself\u001b[39m\u001b[38;5;241m.\u001b[39mshape)\n\u001b[0;32m    607\u001b[0m \u001b[38;5;28;01mreturn\u001b[39;00m \u001b[38;5;28mself\u001b[39m\u001b[38;5;241m.\u001b[39m_dims\n",
      "File \u001b[1;32m~\\miniforge3\\envs\\bio11\\Lib\\site-packages\\bioio_base\\reader.py:432\u001b[0m, in \u001b[0;36mReader.xarray_dask_data\u001b[1;34m(self)\u001b[0m\n\u001b[0;32m    425\u001b[0m \u001b[38;5;250m\u001b[39m\u001b[38;5;124;03m\"\"\"\u001b[39;00m\n\u001b[0;32m    426\u001b[0m \u001b[38;5;124;03mReturns\u001b[39;00m\n\u001b[0;32m    427\u001b[0m \u001b[38;5;124;03m-------\u001b[39;00m\n\u001b[0;32m    428\u001b[0m \u001b[38;5;124;03mxarray_dask_data: xr.DataArray\u001b[39;00m\n\u001b[0;32m    429\u001b[0m \u001b[38;5;124;03m    The delayed image and metadata as an annotated data array.\u001b[39;00m\n\u001b[0;32m    430\u001b[0m \u001b[38;5;124;03m\"\"\"\u001b[39;00m\n\u001b[0;32m    431\u001b[0m \u001b[38;5;28;01mif\u001b[39;00m \u001b[38;5;28mself\u001b[39m\u001b[38;5;241m.\u001b[39m_xarray_dask_data \u001b[38;5;129;01mis\u001b[39;00m \u001b[38;5;28;01mNone\u001b[39;00m:\n\u001b[1;32m--> 432\u001b[0m     \u001b[38;5;28mself\u001b[39m\u001b[38;5;241m.\u001b[39m_xarray_dask_data \u001b[38;5;241m=\u001b[39m \u001b[38;5;28;43mself\u001b[39;49m\u001b[38;5;241;43m.\u001b[39;49m\u001b[43m_read_delayed\u001b[49m\u001b[43m(\u001b[49m\u001b[43m)\u001b[49m\n\u001b[0;32m    434\u001b[0m \u001b[38;5;28;01mreturn\u001b[39;00m \u001b[38;5;28mself\u001b[39m\u001b[38;5;241m.\u001b[39m_xarray_dask_data\n",
      "File \u001b[1;32m~\\miniforge3\\envs\\bio11\\Lib\\site-packages\\bioio_czi\\reader.py:147\u001b[0m, in \u001b[0;36mReader._read_delayed\u001b[1;34m(self)\u001b[0m\n\u001b[0;32m    129\u001b[0m \u001b[38;5;28;01mdef\u001b[39;00m\u001b[38;5;250m \u001b[39m\u001b[38;5;21m_read_delayed\u001b[39m(\u001b[38;5;28mself\u001b[39m) \u001b[38;5;241m-\u001b[39m\u001b[38;5;241m>\u001b[39m xr\u001b[38;5;241m.\u001b[39mDataArray:\n\u001b[0;32m    130\u001b[0m \u001b[38;5;250m    \u001b[39m\u001b[38;5;124;03m\"\"\"\u001b[39;00m\n\u001b[0;32m    131\u001b[0m \u001b[38;5;124;03m    The delayed data array constructor for the image.\u001b[39;00m\n\u001b[0;32m    132\u001b[0m \n\u001b[1;32m   (...)\u001b[0m\n\u001b[0;32m    145\u001b[0m \u001b[38;5;124;03m    automatically stitched (where tiles overlap, the highest M-index wins).\u001b[39;00m\n\u001b[0;32m    146\u001b[0m \u001b[38;5;124;03m    \"\"\"\u001b[39;00m\n\u001b[1;32m--> 147\u001b[0m     \u001b[38;5;28;01mreturn\u001b[39;00m \u001b[38;5;28;43mself\u001b[39;49m\u001b[38;5;241;43m.\u001b[39;49m\u001b[43m_implementation\u001b[49m\u001b[38;5;241;43m.\u001b[39;49m\u001b[43m_read_delayed\u001b[49m\u001b[43m(\u001b[49m\u001b[43m)\u001b[49m\n",
      "File \u001b[1;32m~\\miniforge3\\envs\\bio11\\Lib\\site-packages\\bioio_czi\\pylibczirw_reader\\reader.py:261\u001b[0m, in \u001b[0;36mReader._read_delayed\u001b[1;34m(self)\u001b[0m\n\u001b[0;32m    259\u001b[0m dim_bounds \u001b[38;5;241m=\u001b[39m \u001b[38;5;28mself\u001b[39m\u001b[38;5;241m.\u001b[39m_total_bounding_box\n\u001b[0;32m    260\u001b[0m \u001b[38;5;28;01mif\u001b[39;00m \u001b[38;5;28mlen\u001b[39m(\u001b[38;5;28mself\u001b[39m\u001b[38;5;241m.\u001b[39m_scenes_bounding_rectangle) \u001b[38;5;241m>\u001b[39m \u001b[38;5;241m0\u001b[39m:\n\u001b[1;32m--> 261\u001b[0m     \u001b[38;5;28;01massert\u001b[39;00m \u001b[38;5;28mself\u001b[39m\u001b[38;5;241m.\u001b[39m_current_scene_index \u001b[38;5;129;01min\u001b[39;00m \u001b[38;5;28mself\u001b[39m\u001b[38;5;241m.\u001b[39m_scenes_bounding_rectangle, (\n\u001b[0;32m    262\u001b[0m         \u001b[38;5;124mf\u001b[39m\u001b[38;5;124m\"\u001b[39m\u001b[38;5;124mExpected \u001b[39m\u001b[38;5;132;01m{\u001b[39;00m\u001b[38;5;28mself\u001b[39m\u001b[38;5;241m.\u001b[39m_current_scene_index\u001b[38;5;132;01m}\u001b[39;00m\u001b[38;5;124m to be in \u001b[39m\u001b[38;5;124m\"\u001b[39m\n\u001b[0;32m    263\u001b[0m         \u001b[38;5;124mf\u001b[39m\u001b[38;5;124m\"\u001b[39m\u001b[38;5;132;01m{\u001b[39;00m\u001b[38;5;28mself\u001b[39m\u001b[38;5;241m.\u001b[39m_scenes_bounding_rectangle\u001b[38;5;132;01m}\u001b[39;00m\u001b[38;5;124m.\u001b[39m\u001b[38;5;124m\"\u001b[39m\n\u001b[0;32m    264\u001b[0m     )\n\u001b[0;32m    265\u001b[0m     rect \u001b[38;5;241m=\u001b[39m \u001b[38;5;28mself\u001b[39m\u001b[38;5;241m.\u001b[39m_scenes_bounding_rectangle[\u001b[38;5;28mself\u001b[39m\u001b[38;5;241m.\u001b[39m_current_scene_index]\n\u001b[0;32m    266\u001b[0m     dim_bounds[DimensionNames\u001b[38;5;241m.\u001b[39mSpatialX] \u001b[38;5;241m=\u001b[39m (rect\u001b[38;5;241m.\u001b[39mx, rect\u001b[38;5;241m.\u001b[39mx \u001b[38;5;241m+\u001b[39m rect\u001b[38;5;241m.\u001b[39mw)\n",
      "\u001b[1;31mAssertionError\u001b[0m: Expected 0 to be in {4: Rectangle(x=319358, y=227440, w=692, h=520)}."
     ]
    }
   ],
   "source": [
    "bio_image.shape"
   ]
  },
  {
   "cell_type": "code",
   "execution_count": 5,
   "id": "8f4955d2-a26f-46b3-afab-8fb1e5b2ed49",
   "metadata": {},
   "outputs": [
    {
     "ename": "AssertionError",
     "evalue": "Expected 0 to be in {4: Rectangle(x=319358, y=227440, w=692, h=520)}.",
     "output_type": "error",
     "traceback": [
      "\u001b[1;31m---------------------------------------------------------------------------\u001b[0m",
      "\u001b[1;31mAssertionError\u001b[0m                            Traceback (most recent call last)",
      "Cell \u001b[1;32mIn[5], line 1\u001b[0m\n\u001b[1;32m----> 1\u001b[0m \u001b[43mbio_image\u001b[49m\u001b[38;5;241;43m.\u001b[39;49m\u001b[43mdims\u001b[49m\n",
      "File \u001b[1;32m~\\miniforge3\\envs\\bio11\\Lib\\site-packages\\bioio\\bio_image.py:666\u001b[0m, in \u001b[0;36mBioImage.dims\u001b[1;34m(self)\u001b[0m\n\u001b[0;32m    658\u001b[0m \u001b[38;5;250m\u001b[39m\u001b[38;5;124;03m\"\"\"\u001b[39;00m\n\u001b[0;32m    659\u001b[0m \u001b[38;5;124;03mReturns\u001b[39;00m\n\u001b[0;32m    660\u001b[0m \u001b[38;5;124;03m-------\u001b[39;00m\n\u001b[0;32m    661\u001b[0m \u001b[38;5;124;03mdims: dimensions.Dimensions\u001b[39;00m\n\u001b[0;32m    662\u001b[0m \u001b[38;5;124;03m    Object with the paired dimension names and their sizes.\u001b[39;00m\n\u001b[0;32m    663\u001b[0m \u001b[38;5;124;03m\"\"\"\u001b[39;00m\n\u001b[0;32m    664\u001b[0m \u001b[38;5;28;01mif\u001b[39;00m \u001b[38;5;28mself\u001b[39m\u001b[38;5;241m.\u001b[39m_dims \u001b[38;5;129;01mis\u001b[39;00m \u001b[38;5;28;01mNone\u001b[39;00m:\n\u001b[0;32m    665\u001b[0m     \u001b[38;5;28mself\u001b[39m\u001b[38;5;241m.\u001b[39m_dims \u001b[38;5;241m=\u001b[39m biob\u001b[38;5;241m.\u001b[39mdimensions\u001b[38;5;241m.\u001b[39mDimensions(\n\u001b[1;32m--> 666\u001b[0m         dims\u001b[38;5;241m=\u001b[39m\u001b[38;5;28;43mself\u001b[39;49m\u001b[38;5;241;43m.\u001b[39;49m\u001b[43mxarray_dask_data\u001b[49m\u001b[38;5;241m.\u001b[39mdims, shape\u001b[38;5;241m=\u001b[39m\u001b[38;5;28mself\u001b[39m\u001b[38;5;241m.\u001b[39mshape\n\u001b[0;32m    667\u001b[0m     )\n\u001b[0;32m    669\u001b[0m \u001b[38;5;28;01mreturn\u001b[39;00m \u001b[38;5;28mself\u001b[39m\u001b[38;5;241m.\u001b[39m_dims\n",
      "File \u001b[1;32m~\\miniforge3\\envs\\bio11\\Lib\\site-packages\\bioio\\bio_image.py:530\u001b[0m, in \u001b[0;36mBioImage.xarray_dask_data\u001b[1;34m(self)\u001b[0m\n\u001b[0;32m    515\u001b[0m \u001b[38;5;250m\u001b[39m\u001b[38;5;124;03m\"\"\"\u001b[39;00m\n\u001b[0;32m    516\u001b[0m \u001b[38;5;124;03mReturns\u001b[39;00m\n\u001b[0;32m    517\u001b[0m \u001b[38;5;124;03m-------\u001b[39;00m\n\u001b[1;32m   (...)\u001b[0m\n\u001b[0;32m    523\u001b[0m \u001b[38;5;124;03mIf the image contains mosaic tiles, data is returned already stitched together.\u001b[39;00m\n\u001b[0;32m    524\u001b[0m \u001b[38;5;124;03m\"\"\"\u001b[39;00m\n\u001b[0;32m    525\u001b[0m \u001b[38;5;28;01mif\u001b[39;00m \u001b[38;5;28mself\u001b[39m\u001b[38;5;241m.\u001b[39m_xarray_dask_data \u001b[38;5;129;01mis\u001b[39;00m \u001b[38;5;28;01mNone\u001b[39;00m:\n\u001b[0;32m    526\u001b[0m     \u001b[38;5;28;01mif\u001b[39;00m (\n\u001b[0;32m    527\u001b[0m         \u001b[38;5;66;03m# Does the user want to get stitched mosaic\u001b[39;00m\n\u001b[0;32m    528\u001b[0m         \u001b[38;5;28mself\u001b[39m\u001b[38;5;241m.\u001b[39m_reconstruct_mosaic\n\u001b[0;32m    529\u001b[0m         \u001b[38;5;66;03m# Does the data have a tile dim\u001b[39;00m\n\u001b[1;32m--> 530\u001b[0m         \u001b[38;5;129;01mand\u001b[39;00m biob\u001b[38;5;241m.\u001b[39mdimensions\u001b[38;5;241m.\u001b[39mDimensionNames\u001b[38;5;241m.\u001b[39mMosaicTile \u001b[38;5;129;01min\u001b[39;00m \u001b[38;5;28;43mself\u001b[39;49m\u001b[38;5;241;43m.\u001b[39;49m\u001b[43mreader\u001b[49m\u001b[38;5;241;43m.\u001b[39;49m\u001b[43mdims\u001b[49m\u001b[38;5;241m.\u001b[39morder\n\u001b[0;32m    531\u001b[0m     ):\n\u001b[0;32m    532\u001b[0m         \u001b[38;5;28;01mtry\u001b[39;00m:\n\u001b[0;32m    533\u001b[0m             \u001b[38;5;28mself\u001b[39m\u001b[38;5;241m.\u001b[39m_xarray_dask_data \u001b[38;5;241m=\u001b[39m (\n\u001b[0;32m    534\u001b[0m                 \u001b[38;5;28mself\u001b[39m\u001b[38;5;241m.\u001b[39m_transform_data_array_to_bioio_image_standard(\n\u001b[0;32m    535\u001b[0m                     \u001b[38;5;28mself\u001b[39m\u001b[38;5;241m.\u001b[39mreader\u001b[38;5;241m.\u001b[39mmosaic_xarray_dask_data\n\u001b[0;32m    536\u001b[0m                 )\n\u001b[0;32m    537\u001b[0m             )\n",
      "File \u001b[1;32m~\\miniforge3\\envs\\bio11\\Lib\\site-packages\\bioio_base\\reader.py:605\u001b[0m, in \u001b[0;36mReader.dims\u001b[1;34m(self)\u001b[0m\n\u001b[0;32m    598\u001b[0m \u001b[38;5;250m\u001b[39m\u001b[38;5;124;03m\"\"\"\u001b[39;00m\n\u001b[0;32m    599\u001b[0m \u001b[38;5;124;03mReturns\u001b[39;00m\n\u001b[0;32m    600\u001b[0m \u001b[38;5;124;03m-------\u001b[39;00m\n\u001b[0;32m    601\u001b[0m \u001b[38;5;124;03mdims: Dimensions\u001b[39;00m\n\u001b[0;32m    602\u001b[0m \u001b[38;5;124;03m    Object with the paired dimension names and their sizes.\u001b[39;00m\n\u001b[0;32m    603\u001b[0m \u001b[38;5;124;03m\"\"\"\u001b[39;00m\n\u001b[0;32m    604\u001b[0m \u001b[38;5;28;01mif\u001b[39;00m \u001b[38;5;28mself\u001b[39m\u001b[38;5;241m.\u001b[39m_dims \u001b[38;5;129;01mis\u001b[39;00m \u001b[38;5;28;01mNone\u001b[39;00m:\n\u001b[1;32m--> 605\u001b[0m     \u001b[38;5;28mself\u001b[39m\u001b[38;5;241m.\u001b[39m_dims \u001b[38;5;241m=\u001b[39m Dimensions(dims\u001b[38;5;241m=\u001b[39m\u001b[38;5;28;43mself\u001b[39;49m\u001b[38;5;241;43m.\u001b[39;49m\u001b[43mxarray_dask_data\u001b[49m\u001b[38;5;241m.\u001b[39mdims, shape\u001b[38;5;241m=\u001b[39m\u001b[38;5;28mself\u001b[39m\u001b[38;5;241m.\u001b[39mshape)\n\u001b[0;32m    607\u001b[0m \u001b[38;5;28;01mreturn\u001b[39;00m \u001b[38;5;28mself\u001b[39m\u001b[38;5;241m.\u001b[39m_dims\n",
      "File \u001b[1;32m~\\miniforge3\\envs\\bio11\\Lib\\site-packages\\bioio_base\\reader.py:432\u001b[0m, in \u001b[0;36mReader.xarray_dask_data\u001b[1;34m(self)\u001b[0m\n\u001b[0;32m    425\u001b[0m \u001b[38;5;250m\u001b[39m\u001b[38;5;124;03m\"\"\"\u001b[39;00m\n\u001b[0;32m    426\u001b[0m \u001b[38;5;124;03mReturns\u001b[39;00m\n\u001b[0;32m    427\u001b[0m \u001b[38;5;124;03m-------\u001b[39;00m\n\u001b[0;32m    428\u001b[0m \u001b[38;5;124;03mxarray_dask_data: xr.DataArray\u001b[39;00m\n\u001b[0;32m    429\u001b[0m \u001b[38;5;124;03m    The delayed image and metadata as an annotated data array.\u001b[39;00m\n\u001b[0;32m    430\u001b[0m \u001b[38;5;124;03m\"\"\"\u001b[39;00m\n\u001b[0;32m    431\u001b[0m \u001b[38;5;28;01mif\u001b[39;00m \u001b[38;5;28mself\u001b[39m\u001b[38;5;241m.\u001b[39m_xarray_dask_data \u001b[38;5;129;01mis\u001b[39;00m \u001b[38;5;28;01mNone\u001b[39;00m:\n\u001b[1;32m--> 432\u001b[0m     \u001b[38;5;28mself\u001b[39m\u001b[38;5;241m.\u001b[39m_xarray_dask_data \u001b[38;5;241m=\u001b[39m \u001b[38;5;28;43mself\u001b[39;49m\u001b[38;5;241;43m.\u001b[39;49m\u001b[43m_read_delayed\u001b[49m\u001b[43m(\u001b[49m\u001b[43m)\u001b[49m\n\u001b[0;32m    434\u001b[0m \u001b[38;5;28;01mreturn\u001b[39;00m \u001b[38;5;28mself\u001b[39m\u001b[38;5;241m.\u001b[39m_xarray_dask_data\n",
      "File \u001b[1;32m~\\miniforge3\\envs\\bio11\\Lib\\site-packages\\bioio_czi\\reader.py:147\u001b[0m, in \u001b[0;36mReader._read_delayed\u001b[1;34m(self)\u001b[0m\n\u001b[0;32m    129\u001b[0m \u001b[38;5;28;01mdef\u001b[39;00m\u001b[38;5;250m \u001b[39m\u001b[38;5;21m_read_delayed\u001b[39m(\u001b[38;5;28mself\u001b[39m) \u001b[38;5;241m-\u001b[39m\u001b[38;5;241m>\u001b[39m xr\u001b[38;5;241m.\u001b[39mDataArray:\n\u001b[0;32m    130\u001b[0m \u001b[38;5;250m    \u001b[39m\u001b[38;5;124;03m\"\"\"\u001b[39;00m\n\u001b[0;32m    131\u001b[0m \u001b[38;5;124;03m    The delayed data array constructor for the image.\u001b[39;00m\n\u001b[0;32m    132\u001b[0m \n\u001b[1;32m   (...)\u001b[0m\n\u001b[0;32m    145\u001b[0m \u001b[38;5;124;03m    automatically stitched (where tiles overlap, the highest M-index wins).\u001b[39;00m\n\u001b[0;32m    146\u001b[0m \u001b[38;5;124;03m    \"\"\"\u001b[39;00m\n\u001b[1;32m--> 147\u001b[0m     \u001b[38;5;28;01mreturn\u001b[39;00m \u001b[38;5;28;43mself\u001b[39;49m\u001b[38;5;241;43m.\u001b[39;49m\u001b[43m_implementation\u001b[49m\u001b[38;5;241;43m.\u001b[39;49m\u001b[43m_read_delayed\u001b[49m\u001b[43m(\u001b[49m\u001b[43m)\u001b[49m\n",
      "File \u001b[1;32m~\\miniforge3\\envs\\bio11\\Lib\\site-packages\\bioio_czi\\pylibczirw_reader\\reader.py:261\u001b[0m, in \u001b[0;36mReader._read_delayed\u001b[1;34m(self)\u001b[0m\n\u001b[0;32m    259\u001b[0m dim_bounds \u001b[38;5;241m=\u001b[39m \u001b[38;5;28mself\u001b[39m\u001b[38;5;241m.\u001b[39m_total_bounding_box\n\u001b[0;32m    260\u001b[0m \u001b[38;5;28;01mif\u001b[39;00m \u001b[38;5;28mlen\u001b[39m(\u001b[38;5;28mself\u001b[39m\u001b[38;5;241m.\u001b[39m_scenes_bounding_rectangle) \u001b[38;5;241m>\u001b[39m \u001b[38;5;241m0\u001b[39m:\n\u001b[1;32m--> 261\u001b[0m     \u001b[38;5;28;01massert\u001b[39;00m \u001b[38;5;28mself\u001b[39m\u001b[38;5;241m.\u001b[39m_current_scene_index \u001b[38;5;129;01min\u001b[39;00m \u001b[38;5;28mself\u001b[39m\u001b[38;5;241m.\u001b[39m_scenes_bounding_rectangle, (\n\u001b[0;32m    262\u001b[0m         \u001b[38;5;124mf\u001b[39m\u001b[38;5;124m\"\u001b[39m\u001b[38;5;124mExpected \u001b[39m\u001b[38;5;132;01m{\u001b[39;00m\u001b[38;5;28mself\u001b[39m\u001b[38;5;241m.\u001b[39m_current_scene_index\u001b[38;5;132;01m}\u001b[39;00m\u001b[38;5;124m to be in \u001b[39m\u001b[38;5;124m\"\u001b[39m\n\u001b[0;32m    263\u001b[0m         \u001b[38;5;124mf\u001b[39m\u001b[38;5;124m\"\u001b[39m\u001b[38;5;132;01m{\u001b[39;00m\u001b[38;5;28mself\u001b[39m\u001b[38;5;241m.\u001b[39m_scenes_bounding_rectangle\u001b[38;5;132;01m}\u001b[39;00m\u001b[38;5;124m.\u001b[39m\u001b[38;5;124m\"\u001b[39m\n\u001b[0;32m    264\u001b[0m     )\n\u001b[0;32m    265\u001b[0m     rect \u001b[38;5;241m=\u001b[39m \u001b[38;5;28mself\u001b[39m\u001b[38;5;241m.\u001b[39m_scenes_bounding_rectangle[\u001b[38;5;28mself\u001b[39m\u001b[38;5;241m.\u001b[39m_current_scene_index]\n\u001b[0;32m    266\u001b[0m     dim_bounds[DimensionNames\u001b[38;5;241m.\u001b[39mSpatialX] \u001b[38;5;241m=\u001b[39m (rect\u001b[38;5;241m.\u001b[39mx, rect\u001b[38;5;241m.\u001b[39mx \u001b[38;5;241m+\u001b[39m rect\u001b[38;5;241m.\u001b[39mw)\n",
      "\u001b[1;31mAssertionError\u001b[0m: Expected 0 to be in {4: Rectangle(x=319358, y=227440, w=692, h=520)}."
     ]
    }
   ],
   "source": [
    "bio_image.dims"
   ]
  },
  {
   "cell_type": "code",
   "execution_count": 6,
   "id": "57ca8ff9-2eea-42b3-b4ed-aaca533d104c",
   "metadata": {},
   "outputs": [
    {
     "ename": "AssertionError",
     "evalue": "Expected 0 to be in {4: Rectangle(x=319358, y=227440, w=692, h=520)}.",
     "output_type": "error",
     "traceback": [
      "\u001b[1;31m---------------------------------------------------------------------------\u001b[0m",
      "\u001b[1;31mAssertionError\u001b[0m                            Traceback (most recent call last)",
      "Cell \u001b[1;32mIn[6], line 1\u001b[0m\n\u001b[1;32m----> 1\u001b[0m \u001b[43mbio_image\u001b[49m\u001b[38;5;241;43m.\u001b[39;49m\u001b[43mdims\u001b[49m\u001b[38;5;241m.\u001b[39morder\n",
      "File \u001b[1;32m~\\miniforge3\\envs\\bio11\\Lib\\site-packages\\bioio\\bio_image.py:666\u001b[0m, in \u001b[0;36mBioImage.dims\u001b[1;34m(self)\u001b[0m\n\u001b[0;32m    658\u001b[0m \u001b[38;5;250m\u001b[39m\u001b[38;5;124;03m\"\"\"\u001b[39;00m\n\u001b[0;32m    659\u001b[0m \u001b[38;5;124;03mReturns\u001b[39;00m\n\u001b[0;32m    660\u001b[0m \u001b[38;5;124;03m-------\u001b[39;00m\n\u001b[0;32m    661\u001b[0m \u001b[38;5;124;03mdims: dimensions.Dimensions\u001b[39;00m\n\u001b[0;32m    662\u001b[0m \u001b[38;5;124;03m    Object with the paired dimension names and their sizes.\u001b[39;00m\n\u001b[0;32m    663\u001b[0m \u001b[38;5;124;03m\"\"\"\u001b[39;00m\n\u001b[0;32m    664\u001b[0m \u001b[38;5;28;01mif\u001b[39;00m \u001b[38;5;28mself\u001b[39m\u001b[38;5;241m.\u001b[39m_dims \u001b[38;5;129;01mis\u001b[39;00m \u001b[38;5;28;01mNone\u001b[39;00m:\n\u001b[0;32m    665\u001b[0m     \u001b[38;5;28mself\u001b[39m\u001b[38;5;241m.\u001b[39m_dims \u001b[38;5;241m=\u001b[39m biob\u001b[38;5;241m.\u001b[39mdimensions\u001b[38;5;241m.\u001b[39mDimensions(\n\u001b[1;32m--> 666\u001b[0m         dims\u001b[38;5;241m=\u001b[39m\u001b[38;5;28;43mself\u001b[39;49m\u001b[38;5;241;43m.\u001b[39;49m\u001b[43mxarray_dask_data\u001b[49m\u001b[38;5;241m.\u001b[39mdims, shape\u001b[38;5;241m=\u001b[39m\u001b[38;5;28mself\u001b[39m\u001b[38;5;241m.\u001b[39mshape\n\u001b[0;32m    667\u001b[0m     )\n\u001b[0;32m    669\u001b[0m \u001b[38;5;28;01mreturn\u001b[39;00m \u001b[38;5;28mself\u001b[39m\u001b[38;5;241m.\u001b[39m_dims\n",
      "File \u001b[1;32m~\\miniforge3\\envs\\bio11\\Lib\\site-packages\\bioio\\bio_image.py:530\u001b[0m, in \u001b[0;36mBioImage.xarray_dask_data\u001b[1;34m(self)\u001b[0m\n\u001b[0;32m    515\u001b[0m \u001b[38;5;250m\u001b[39m\u001b[38;5;124;03m\"\"\"\u001b[39;00m\n\u001b[0;32m    516\u001b[0m \u001b[38;5;124;03mReturns\u001b[39;00m\n\u001b[0;32m    517\u001b[0m \u001b[38;5;124;03m-------\u001b[39;00m\n\u001b[1;32m   (...)\u001b[0m\n\u001b[0;32m    523\u001b[0m \u001b[38;5;124;03mIf the image contains mosaic tiles, data is returned already stitched together.\u001b[39;00m\n\u001b[0;32m    524\u001b[0m \u001b[38;5;124;03m\"\"\"\u001b[39;00m\n\u001b[0;32m    525\u001b[0m \u001b[38;5;28;01mif\u001b[39;00m \u001b[38;5;28mself\u001b[39m\u001b[38;5;241m.\u001b[39m_xarray_dask_data \u001b[38;5;129;01mis\u001b[39;00m \u001b[38;5;28;01mNone\u001b[39;00m:\n\u001b[0;32m    526\u001b[0m     \u001b[38;5;28;01mif\u001b[39;00m (\n\u001b[0;32m    527\u001b[0m         \u001b[38;5;66;03m# Does the user want to get stitched mosaic\u001b[39;00m\n\u001b[0;32m    528\u001b[0m         \u001b[38;5;28mself\u001b[39m\u001b[38;5;241m.\u001b[39m_reconstruct_mosaic\n\u001b[0;32m    529\u001b[0m         \u001b[38;5;66;03m# Does the data have a tile dim\u001b[39;00m\n\u001b[1;32m--> 530\u001b[0m         \u001b[38;5;129;01mand\u001b[39;00m biob\u001b[38;5;241m.\u001b[39mdimensions\u001b[38;5;241m.\u001b[39mDimensionNames\u001b[38;5;241m.\u001b[39mMosaicTile \u001b[38;5;129;01min\u001b[39;00m \u001b[38;5;28;43mself\u001b[39;49m\u001b[38;5;241;43m.\u001b[39;49m\u001b[43mreader\u001b[49m\u001b[38;5;241;43m.\u001b[39;49m\u001b[43mdims\u001b[49m\u001b[38;5;241m.\u001b[39morder\n\u001b[0;32m    531\u001b[0m     ):\n\u001b[0;32m    532\u001b[0m         \u001b[38;5;28;01mtry\u001b[39;00m:\n\u001b[0;32m    533\u001b[0m             \u001b[38;5;28mself\u001b[39m\u001b[38;5;241m.\u001b[39m_xarray_dask_data \u001b[38;5;241m=\u001b[39m (\n\u001b[0;32m    534\u001b[0m                 \u001b[38;5;28mself\u001b[39m\u001b[38;5;241m.\u001b[39m_transform_data_array_to_bioio_image_standard(\n\u001b[0;32m    535\u001b[0m                     \u001b[38;5;28mself\u001b[39m\u001b[38;5;241m.\u001b[39mreader\u001b[38;5;241m.\u001b[39mmosaic_xarray_dask_data\n\u001b[0;32m    536\u001b[0m                 )\n\u001b[0;32m    537\u001b[0m             )\n",
      "File \u001b[1;32m~\\miniforge3\\envs\\bio11\\Lib\\site-packages\\bioio_base\\reader.py:605\u001b[0m, in \u001b[0;36mReader.dims\u001b[1;34m(self)\u001b[0m\n\u001b[0;32m    598\u001b[0m \u001b[38;5;250m\u001b[39m\u001b[38;5;124;03m\"\"\"\u001b[39;00m\n\u001b[0;32m    599\u001b[0m \u001b[38;5;124;03mReturns\u001b[39;00m\n\u001b[0;32m    600\u001b[0m \u001b[38;5;124;03m-------\u001b[39;00m\n\u001b[0;32m    601\u001b[0m \u001b[38;5;124;03mdims: Dimensions\u001b[39;00m\n\u001b[0;32m    602\u001b[0m \u001b[38;5;124;03m    Object with the paired dimension names and their sizes.\u001b[39;00m\n\u001b[0;32m    603\u001b[0m \u001b[38;5;124;03m\"\"\"\u001b[39;00m\n\u001b[0;32m    604\u001b[0m \u001b[38;5;28;01mif\u001b[39;00m \u001b[38;5;28mself\u001b[39m\u001b[38;5;241m.\u001b[39m_dims \u001b[38;5;129;01mis\u001b[39;00m \u001b[38;5;28;01mNone\u001b[39;00m:\n\u001b[1;32m--> 605\u001b[0m     \u001b[38;5;28mself\u001b[39m\u001b[38;5;241m.\u001b[39m_dims \u001b[38;5;241m=\u001b[39m Dimensions(dims\u001b[38;5;241m=\u001b[39m\u001b[38;5;28;43mself\u001b[39;49m\u001b[38;5;241;43m.\u001b[39;49m\u001b[43mxarray_dask_data\u001b[49m\u001b[38;5;241m.\u001b[39mdims, shape\u001b[38;5;241m=\u001b[39m\u001b[38;5;28mself\u001b[39m\u001b[38;5;241m.\u001b[39mshape)\n\u001b[0;32m    607\u001b[0m \u001b[38;5;28;01mreturn\u001b[39;00m \u001b[38;5;28mself\u001b[39m\u001b[38;5;241m.\u001b[39m_dims\n",
      "File \u001b[1;32m~\\miniforge3\\envs\\bio11\\Lib\\site-packages\\bioio_base\\reader.py:432\u001b[0m, in \u001b[0;36mReader.xarray_dask_data\u001b[1;34m(self)\u001b[0m\n\u001b[0;32m    425\u001b[0m \u001b[38;5;250m\u001b[39m\u001b[38;5;124;03m\"\"\"\u001b[39;00m\n\u001b[0;32m    426\u001b[0m \u001b[38;5;124;03mReturns\u001b[39;00m\n\u001b[0;32m    427\u001b[0m \u001b[38;5;124;03m-------\u001b[39;00m\n\u001b[0;32m    428\u001b[0m \u001b[38;5;124;03mxarray_dask_data: xr.DataArray\u001b[39;00m\n\u001b[0;32m    429\u001b[0m \u001b[38;5;124;03m    The delayed image and metadata as an annotated data array.\u001b[39;00m\n\u001b[0;32m    430\u001b[0m \u001b[38;5;124;03m\"\"\"\u001b[39;00m\n\u001b[0;32m    431\u001b[0m \u001b[38;5;28;01mif\u001b[39;00m \u001b[38;5;28mself\u001b[39m\u001b[38;5;241m.\u001b[39m_xarray_dask_data \u001b[38;5;129;01mis\u001b[39;00m \u001b[38;5;28;01mNone\u001b[39;00m:\n\u001b[1;32m--> 432\u001b[0m     \u001b[38;5;28mself\u001b[39m\u001b[38;5;241m.\u001b[39m_xarray_dask_data \u001b[38;5;241m=\u001b[39m \u001b[38;5;28;43mself\u001b[39;49m\u001b[38;5;241;43m.\u001b[39;49m\u001b[43m_read_delayed\u001b[49m\u001b[43m(\u001b[49m\u001b[43m)\u001b[49m\n\u001b[0;32m    434\u001b[0m \u001b[38;5;28;01mreturn\u001b[39;00m \u001b[38;5;28mself\u001b[39m\u001b[38;5;241m.\u001b[39m_xarray_dask_data\n",
      "File \u001b[1;32m~\\miniforge3\\envs\\bio11\\Lib\\site-packages\\bioio_czi\\reader.py:147\u001b[0m, in \u001b[0;36mReader._read_delayed\u001b[1;34m(self)\u001b[0m\n\u001b[0;32m    129\u001b[0m \u001b[38;5;28;01mdef\u001b[39;00m\u001b[38;5;250m \u001b[39m\u001b[38;5;21m_read_delayed\u001b[39m(\u001b[38;5;28mself\u001b[39m) \u001b[38;5;241m-\u001b[39m\u001b[38;5;241m>\u001b[39m xr\u001b[38;5;241m.\u001b[39mDataArray:\n\u001b[0;32m    130\u001b[0m \u001b[38;5;250m    \u001b[39m\u001b[38;5;124;03m\"\"\"\u001b[39;00m\n\u001b[0;32m    131\u001b[0m \u001b[38;5;124;03m    The delayed data array constructor for the image.\u001b[39;00m\n\u001b[0;32m    132\u001b[0m \n\u001b[1;32m   (...)\u001b[0m\n\u001b[0;32m    145\u001b[0m \u001b[38;5;124;03m    automatically stitched (where tiles overlap, the highest M-index wins).\u001b[39;00m\n\u001b[0;32m    146\u001b[0m \u001b[38;5;124;03m    \"\"\"\u001b[39;00m\n\u001b[1;32m--> 147\u001b[0m     \u001b[38;5;28;01mreturn\u001b[39;00m \u001b[38;5;28;43mself\u001b[39;49m\u001b[38;5;241;43m.\u001b[39;49m\u001b[43m_implementation\u001b[49m\u001b[38;5;241;43m.\u001b[39;49m\u001b[43m_read_delayed\u001b[49m\u001b[43m(\u001b[49m\u001b[43m)\u001b[49m\n",
      "File \u001b[1;32m~\\miniforge3\\envs\\bio11\\Lib\\site-packages\\bioio_czi\\pylibczirw_reader\\reader.py:261\u001b[0m, in \u001b[0;36mReader._read_delayed\u001b[1;34m(self)\u001b[0m\n\u001b[0;32m    259\u001b[0m dim_bounds \u001b[38;5;241m=\u001b[39m \u001b[38;5;28mself\u001b[39m\u001b[38;5;241m.\u001b[39m_total_bounding_box\n\u001b[0;32m    260\u001b[0m \u001b[38;5;28;01mif\u001b[39;00m \u001b[38;5;28mlen\u001b[39m(\u001b[38;5;28mself\u001b[39m\u001b[38;5;241m.\u001b[39m_scenes_bounding_rectangle) \u001b[38;5;241m>\u001b[39m \u001b[38;5;241m0\u001b[39m:\n\u001b[1;32m--> 261\u001b[0m     \u001b[38;5;28;01massert\u001b[39;00m \u001b[38;5;28mself\u001b[39m\u001b[38;5;241m.\u001b[39m_current_scene_index \u001b[38;5;129;01min\u001b[39;00m \u001b[38;5;28mself\u001b[39m\u001b[38;5;241m.\u001b[39m_scenes_bounding_rectangle, (\n\u001b[0;32m    262\u001b[0m         \u001b[38;5;124mf\u001b[39m\u001b[38;5;124m\"\u001b[39m\u001b[38;5;124mExpected \u001b[39m\u001b[38;5;132;01m{\u001b[39;00m\u001b[38;5;28mself\u001b[39m\u001b[38;5;241m.\u001b[39m_current_scene_index\u001b[38;5;132;01m}\u001b[39;00m\u001b[38;5;124m to be in \u001b[39m\u001b[38;5;124m\"\u001b[39m\n\u001b[0;32m    263\u001b[0m         \u001b[38;5;124mf\u001b[39m\u001b[38;5;124m\"\u001b[39m\u001b[38;5;132;01m{\u001b[39;00m\u001b[38;5;28mself\u001b[39m\u001b[38;5;241m.\u001b[39m_scenes_bounding_rectangle\u001b[38;5;132;01m}\u001b[39;00m\u001b[38;5;124m.\u001b[39m\u001b[38;5;124m\"\u001b[39m\n\u001b[0;32m    264\u001b[0m     )\n\u001b[0;32m    265\u001b[0m     rect \u001b[38;5;241m=\u001b[39m \u001b[38;5;28mself\u001b[39m\u001b[38;5;241m.\u001b[39m_scenes_bounding_rectangle[\u001b[38;5;28mself\u001b[39m\u001b[38;5;241m.\u001b[39m_current_scene_index]\n\u001b[0;32m    266\u001b[0m     dim_bounds[DimensionNames\u001b[38;5;241m.\u001b[39mSpatialX] \u001b[38;5;241m=\u001b[39m (rect\u001b[38;5;241m.\u001b[39mx, rect\u001b[38;5;241m.\u001b[39mx \u001b[38;5;241m+\u001b[39m rect\u001b[38;5;241m.\u001b[39mw)\n",
      "\u001b[1;31mAssertionError\u001b[0m: Expected 0 to be in {4: Rectangle(x=319358, y=227440, w=692, h=520)}."
     ]
    }
   ],
   "source": [
    "bio_image.dims.order"
   ]
  },
  {
   "cell_type": "markdown",
   "id": "2df670db-32f7-4279-bd35-a1713e849f88",
   "metadata": {},
   "source": [
    "From this object, we can also retrieve pixels as numpy arrays."
   ]
  },
  {
   "cell_type": "code",
   "execution_count": null,
   "id": "088b222c-e9eb-45aa-9ee6-ade6318ea647",
   "metadata": {},
   "outputs": [],
   "source": [
    "np_image = bio_image.get_image_data(\"ZYX\", T=0)\n",
    "np_image.shape"
   ]
  },
  {
   "cell_type": "code",
   "execution_count": null,
   "id": "7984c296-27ed-449d-9c27-9d748bf5dcdf",
   "metadata": {},
   "outputs": [],
   "source": [
    "imshow(np_image[128])"
   ]
  },
  {
   "cell_type": "markdown",
   "id": "d721205a-0b65-47a4-b3b9-a039b749e0d6",
   "metadata": {},
   "source": [
    "## Reading meta data\n",
    "\n",
    "When working with microscopy image data, it is important to be aware of meta data, for example the voxel size. In order to do volume measurements in proper physical units, we need to know how large a voxel is in X, Y and Z."
   ]
  },
  {
   "cell_type": "code",
   "execution_count": null,
   "id": "b2cf4ca7-a8a2-4f49-8f4a-787084912394",
   "metadata": {
    "tags": []
   },
   "outputs": [],
   "source": [
    "bio_image.physical_pixel_sizes"
   ]
  },
  {
   "cell_type": "markdown",
   "id": "b2b73073-c812-4727-83b3-3b2b7ff7e1c6",
   "metadata": {},
   "source": [
    "And one can define a helper function for reading the voxel size in Z/Y/X format."
   ]
  },
  {
   "cell_type": "code",
   "execution_count": null,
   "id": "89553a42-8686-4502-a67f-d5e4cdc15f59",
   "metadata": {},
   "outputs": [],
   "source": [
    "def get_voxel_size_from_aics_image(bio_image):\n",
    "    return (bio_image.physical_pixel_sizes.Z,\n",
    "            bio_image.physical_pixel_sizes.Y,\n",
    "            bio_image.physical_pixel_sizes.X)"
   ]
  },
  {
   "cell_type": "code",
   "execution_count": null,
   "id": "67274c33-5adb-4bd1-a5a8-df0d27441b19",
   "metadata": {},
   "outputs": [],
   "source": [
    "get_voxel_size_from_aics_image(bio_image)"
   ]
  },
  {
   "cell_type": "markdown",
   "id": "8f9c8072-f002-408d-9572-72b4c3fb7f59",
   "metadata": {},
   "source": [
    "## Exercise\n",
    "Read a single X-Y plane image from the `bio_image`."
   ]
  },
  {
   "cell_type": "code",
   "execution_count": null,
   "id": "887e1e14-02be-4879-ac60-8ca03ef63a79",
   "metadata": {},
   "outputs": [],
   "source": []
  }
 ],
 "metadata": {
  "kernelspec": {
   "display_name": "Python 3 (ipykernel)",
   "language": "python",
   "name": "python3"
  },
  "language_info": {
   "codemirror_mode": {
    "name": "ipython",
    "version": 3
   },
   "file_extension": ".py",
   "mimetype": "text/x-python",
   "name": "python",
   "nbconvert_exporter": "python",
   "pygments_lexer": "ipython3",
   "version": "3.11.11"
  }
 },
 "nbformat": 4,
 "nbformat_minor": 5
}
